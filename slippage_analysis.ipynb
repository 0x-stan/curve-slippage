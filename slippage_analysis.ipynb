{
 "cells": [
  {
   "cell_type": "code",
   "execution_count": 54,
   "metadata": {},
   "outputs": [],
   "source": [
    "import pandas as pd\n",
    "import numpy as np\n"
   ]
  },
  {
   "cell_type": "code",
   "execution_count": 55,
   "metadata": {},
   "outputs": [
    {
     "name": "stdout",
     "output_type": "stream",
     "text": [
      "         dyPerOne            dy        poolb0        poolb1\n",
      "0    9.994780e+17  9.995390e+20  3.203021e+23  3.223018e+23\n",
      "1    9.993560e+17  9.994170e+20  3.193025e+23  3.233018e+23\n",
      "2    9.992340e+17  9.992951e+20  3.183030e+23  3.243018e+23\n",
      "3    9.991120e+17  9.991731e+20  3.173036e+23  3.253018e+23\n",
      "4    9.989900e+17  9.990511e+20  3.163044e+23  3.263018e+23\n",
      "..            ...           ...           ...           ...\n",
      "508  2.472111e+16  2.484682e+19  4.035574e+21  8.303018e+23\n",
      "509  2.447287e+16  2.459680e+19  4.010973e+21  8.313018e+23\n",
      "510  2.422813e+16  2.435032e+19  3.986617e+21  8.323018e+23\n",
      "511  2.398684e+16  2.410730e+19  3.962505e+21  8.333018e+23\n",
      "512  2.374892e+16  2.386770e+19  3.938633e+21  8.343018e+23\n",
      "\n",
      "[513 rows x 4 columns]\n"
     ]
    }
   ],
   "source": [
    "LOG_DIR = \"./data/slippageLog.csv\"\n",
    "\n",
    "df = pd.read_csv(LOG_DIR, dtype=float)\n",
    "stETH_percent = df[\"poolb1\"] / (df[\"poolb0\"] + df[\"poolb1\"])\n",
    "\n",
    "print(df)\n"
   ]
  },
  {
   "cell_type": "code",
   "execution_count": 56,
   "metadata": {},
   "outputs": [
    {
     "data": {
      "image/png": "[encoded data removed]",
      "text/plain": [
       "<Figure size 432x288 with 1 Axes>"
      ]
     },
     "metadata": {
      "needs_background": "light"
     },
     "output_type": "display_data"
    }
   ],
   "source": [
    "import matplotlib.pyplot as plt\n",
    "fig,ax = plt.subplots()\n",
    "\n",
    "ax.set_xlabel(\"stETH's balance in pool (%)\")\n",
    "ax.set_ylabel(\"stETH per ETH\")\n",
    "line_xcp, = ax.plot(stETH_percent * 100, df['dyPerOne'] / 1e18, label=\"slippage\")\n",
    "\n",
    "\n",
    "ax.legend(handles=[line_xcp], loc='upper right')\n",
    "plt.show()"
   ]
  },
  {
   "cell_type": "code",
   "execution_count": null,
   "metadata": {},
   "outputs": [],
   "source": []
  }
 ],
 "metadata": {
  "interpreter": {
   "hash": "b0fa6594d8f4cbf19f97940f81e996739fb7646882a419484c72d19e05852a7e"
  },
  "kernelspec": {
   "display_name": "Python 3.9.10 64-bit",
   "language": "python",
   "name": "python3"
  },
  "language_info": {
   "codemirror_mode": {
    "name": "ipython",
    "version": 3
   },
   "file_extension": ".py",
   "mimetype": "text/x-python",
   "name": "python",
   "nbconvert_exporter": "python",
   "pygments_lexer": "ipython3",
   "version": "3.9.10"
  },
  "orig_nbformat": 4
 },
 "nbformat": 4,
 "nbformat_minor": 2
}
