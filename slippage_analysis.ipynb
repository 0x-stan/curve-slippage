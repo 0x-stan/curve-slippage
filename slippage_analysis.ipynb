{
 "cells": [
  {
   "cell_type": "code",
   "execution_count": 71,
   "metadata": {},
   "outputs": [],
   "source": [
    "import pandas as pd\n",
    "import numpy as np\n"
   ]
  },
  {
   "cell_type": "code",
   "execution_count": 72,
   "metadata": {},
   "outputs": [
    {
     "name": "stdout",
     "output_type": "stream",
     "text": [
      "         dyPerOne            dy        poolb0        poolb1  \\\n",
      "0    1.819774e+18  1.843751e+21  6.332237e+23  3.395353e+22   \n",
      "1    1.775128e+18  1.797161e+21  6.314262e+23  3.495353e+22   \n",
      "2    1.734024e+18  1.754317e+21  6.296715e+23  3.595353e+22   \n",
      "3    1.696094e+18  1.714827e+21  6.279564e+23  3.695353e+22   \n",
      "4    1.661021e+18  1.678349e+21  6.262777e+23  3.795353e+22   \n",
      "..            ...           ...           ...           ...   \n",
      "796  2.486973e+16  2.499647e+19  4.051443e+21  8.299535e+23   \n",
      "797  2.461945e+16  2.474440e+19  4.026694e+21  8.309535e+23   \n",
      "798  2.437272e+16  2.449590e+19  4.002193e+21  8.319535e+23   \n",
      "799  2.412946e+16  2.425091e+19  3.977937e+21  8.329535e+23   \n",
      "800  2.388962e+16  2.400936e+19  3.953923e+21  8.339535e+23   \n",
      "\n",
      "     ethPersent(100.00%)  \n",
      "0                 9491.0  \n",
      "1                 9475.0  \n",
      "2                 9459.0  \n",
      "3                 9444.0  \n",
      "4                 9428.0  \n",
      "..                   ...  \n",
      "796                 48.0  \n",
      "797                 48.0  \n",
      "798                 47.0  \n",
      "799                 47.0  \n",
      "800                 47.0  \n",
      "\n",
      "[801 rows x 5 columns]\n"
     ]
    }
   ],
   "source": [
    "LOG_DIR = \"./data/slippageLog.csv\"\n",
    "\n",
    "df = pd.read_csv(LOG_DIR, dtype=float)\n",
    "stETH_percent = df[\"poolb1\"] / (df[\"poolb0\"] + df[\"poolb1\"])\n",
    "\n",
    "print(df)\n"
   ]
  },
  {
   "cell_type": "code",
   "execution_count": 73,
   "metadata": {},
   "outputs": [
    {
     "data": {
      "image/png": "[encoded data removed]",
      "text/plain": [
       "<Figure size 432x288 with 1 Axes>"
      ]
     },
     "metadata": {
      "needs_background": "light"
     },
     "output_type": "display_data"
    }
   ],
   "source": [
    "import matplotlib.pyplot as plt\n",
    "fig,ax = plt.subplots()\n",
    "\n",
    "ax.set_xlabel(\"ETH's balance in pool (%)\")\n",
    "ax.set_ylabel(\"ETH per stETH\")\n",
    "line_xcp, = ax.plot(stETH_percent * 100, df['dyPerOne'] / 1e18, label=\"slippage\")\n",
    "\n",
    "\n",
    "ax.legend(handles=[line_xcp], loc='upper right')\n",
    "plt.show()"
   ]
  },
  {
   "cell_type": "code",
   "execution_count": null,
   "metadata": {},
   "outputs": [],
   "source": []
  }
 ],
 "metadata": {
  "interpreter": {
   "hash": "b0fa6594d8f4cbf19f97940f81e996739fb7646882a419484c72d19e05852a7e"
  },
  "kernelspec": {
   "display_name": "Python 3.9.10 64-bit",
   "language": "python",
   "name": "python3"
  },
  "language_info": {
   "codemirror_mode": {
    "name": "ipython",
    "version": 3
   },
   "file_extension": ".py",
   "mimetype": "text/x-python",
   "name": "python",
   "nbconvert_exporter": "python",
   "pygments_lexer": "ipython3",
   "version": "3.9.10"
  },
  "orig_nbformat": 4
 },
 "nbformat": 4,
 "nbformat_minor": 2
}
