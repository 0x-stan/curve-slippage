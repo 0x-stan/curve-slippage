{
 "cells": [
  {
   "cell_type": "code",
   "execution_count": 12,
   "metadata": {},
   "outputs": [],
   "source": [
    "import pandas as pd\n",
    "import numpy as np\n"
   ]
  },
  {
   "cell_type": "code",
   "execution_count": 21,
   "metadata": {},
   "outputs": [
    {
     "name": "stdout",
     "output_type": "stream",
     "text": [
      "         dyPerOne            dy        poolb0        poolb1\n",
      "0    9.365027e+17  9.369909e+20  1.190166e+23  5.276880e+23\n",
      "1    9.355110e+17  9.360089e+20  1.180804e+23  5.286880e+23\n",
      "2    9.344993e+17  9.350073e+20  1.171452e+23  5.296880e+23\n",
      "3    9.334672e+17  9.339854e+20  1.162110e+23  5.306880e+23\n",
      "4    9.324141e+17  9.329429e+20  1.152779e+23  5.316880e+23\n",
      "..            ...           ...           ...           ...\n",
      "303  2.460055e+16  2.472541e+19  4.023166e+21  8.306880e+23\n",
      "304  2.435398e+16  2.447707e+19  3.998684e+21  8.316880e+23\n",
      "305  2.411089e+16  2.423225e+19  3.974447e+21  8.326880e+23\n",
      "306  2.387121e+16  2.399087e+19  3.950451e+21  8.336880e+23\n",
      "307  2.363488e+16  2.375286e+19  3.926693e+21  8.346880e+23\n",
      "\n",
      "[308 rows x 4 columns]\n"
     ]
    }
   ],
   "source": [
    "LOG_DIR = \"./data/slippageLog.csv\"\n",
    "\n",
    "# df = pd.read_csv(LOG_DIR, dtype={ 'dyPerOne': np.int128, 'dy': np.int128, 'poolb0': np.int128, 'poolb1': np.int128 })\n",
    "df = pd.read_csv(LOG_DIR, dtype=float)\n",
    "eth_percent = df[\"poolb0\"] / (df[\"poolb0\"] + df[\"poolb1\"])\n",
    "\n",
    "print(df)\n"
   ]
  },
  {
   "cell_type": "code",
   "execution_count": 22,
   "metadata": {},
   "outputs": [
    {
     "data": {
      "image/png": "[encoded data removed]",
      "text/plain": [
       "<Figure size 432x288 with 1 Axes>"
      ]
     },
     "metadata": {
      "needs_background": "light"
     },
     "output_type": "display_data"
    }
   ],
   "source": [
    "import matplotlib.pyplot as plt\n",
    "fig,ax = plt.subplots()\n",
    "\n",
    "ax.set_xlabel(\"eth balance persent\")\n",
    "ax.set_ylabel(\"ETH per stETH\")\n",
    "line_xcp, = ax.plot(eth_percent, df['dyPerOne'], label=\"slippage\")\n",
    "\n",
    "\n",
    "ax.legend(handles=[line_xcp], loc='upper center')\n",
    "plt.show()"
   ]
  },
  {
   "cell_type": "code",
   "execution_count": null,
   "metadata": {},
   "outputs": [],
   "source": []
  }
 ],
 "metadata": {
  "interpreter": {
   "hash": "b0fa6594d8f4cbf19f97940f81e996739fb7646882a419484c72d19e05852a7e"
  },
  "kernelspec": {
   "display_name": "Python 3.9.10 64-bit",
   "language": "python",
   "name": "python3"
  },
  "language_info": {
   "codemirror_mode": {
    "name": "ipython",
    "version": 3
   },
   "file_extension": ".py",
   "mimetype": "text/x-python",
   "name": "python",
   "nbconvert_exporter": "python",
   "pygments_lexer": "ipython3",
   "version": "3.9.10"
  },
  "orig_nbformat": 4
 },
 "nbformat": 4,
 "nbformat_minor": 2
}
